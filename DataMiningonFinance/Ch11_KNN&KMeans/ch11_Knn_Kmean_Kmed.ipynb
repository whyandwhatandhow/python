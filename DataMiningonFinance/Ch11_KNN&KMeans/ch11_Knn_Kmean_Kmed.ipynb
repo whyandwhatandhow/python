{
 "cells": [
  {
   "cell_type": "code",
   "execution_count": 1,
   "metadata": {},
   "outputs": [],
   "source": [
    "import pandas as pd\n",
    "import numpy as np\n",
    "\n",
    "import matplotlib as mpl\n",
    "import matplotlib.pyplot as plt"
   ]
  },
  {
   "cell_type": "code",
   "execution_count": 2,
   "metadata": {},
   "outputs": [],
   "source": [
    "# 计算欧式距离，即两点间的直线距离 \n",
    "#参数：vector1-List列表，n维属性坐标值构成的向量\n",
    "#      vector2-List列表，n维属性坐标值构成的向量\n",
    "#返回值：浮点数，欧式距离\n",
    "\n",
    "def euclDistance(vector1, vector2):  \n",
    "    return np.sqrt(np.sum(np.power(vector2 - vector1, 2)))  "
   ]
  },
  {
   "cell_type": "code",
   "execution_count": 3,
   "metadata": {},
   "outputs": [],
   "source": [
    "# 创建一个数据集，包含2个类别共8个样本\n",
    "def createDataSet():\n",
    "# 生成一个矩阵，每行表示一个样本\n",
    "    group = np.array([[1.0,0.9], [1.0,1.0], [0.8,0.9], [0.6,0.65],\n",
    "    [0.1, 0.2], [0.3,0.4], [0.2,0.3], [0.0, 0.1]])\n",
    "# 监督学习，手工设置8个样本所属的类别标签\n",
    "    labels = ['A', 'A','A', 'A', 'B', 'B','B', 'B']\n",
    "    return group, labels"
   ]
  },
  {
   "cell_type": "code",
   "execution_count": 4,
   "metadata": {},
   "outputs": [],
   "source": [
    "# KNN分类算法函数实现\n",
    "#参数：newInput-List列表，待分类的数据点\n",
    "#      dataSet-List列表，已分类点坐标\n",
    "#      lables-List列表，分类标签\n",
    "#      k-整数，近邻数量\n",
    "#返回值：maxIndex-字符，分类结果\n",
    "def kNNClassify(newInput, dataSet, labels, k):\n",
    "    numSamples = dataSet.shape[0]   # shape[0]表示行数\n",
    "    distance = []\n",
    "#计算newInput与dataSet中个点的距离，放入distance列表内\n",
    "    for vec in dataSet:\n",
    "        distance.append(euclDistance(newInput,vec))        \n",
    "#对距离排序\n",
    "    sortedDistIndices = np.argsort(distance)\n",
    "    classCount = {}\n",
    "#选择k个最近邻\n",
    "    for i in range(k):\n",
    "        voteLabel = labels[sortedDistIndices[i]]\n",
    "        classCount[voteLabel] = classCount.get(voteLabel, 0) + 1\n",
    "    maxCount = 0\n",
    "    for key, value in classCount.items():\n",
    "        if value > maxCount:\n",
    "            maxCount = value\n",
    "            maxIndex = key\n",
    "    return maxIndex"
   ]
  },
  {
   "cell_type": "code",
   "execution_count": 5,
   "metadata": {},
   "outputs": [
    {
     "name": "stdout",
     "output_type": "stream",
     "text": [
      "Your input is: [1.2 1. ] and classified to class:  A\n",
      "Your input is: [0.1 0.3] and classified to class:  B\n"
     ]
    }
   ],
   "source": [
    "# 生成数据集和类别标签\n",
    "dataSet, labels = createDataSet()\n",
    "#K取值3，调用K近邻分类算法\n",
    "k = 3\n",
    "#对testX进行分类\n",
    "testX = np.array([1.2, 1.0])\n",
    "outputLabel = kNNClassify(testX, dataSet, labels, 3)\n",
    "print( \"Your input is:\", testX, \"and classified to class: \", outputLabel)\n",
    "#对testY进行分类\n",
    "testY = np.array([0.1, 0.3])\n",
    "outputLabel = kNNClassify(testY, dataSet, labels, 3)\n",
    "print(\"Your input is:\", testY, \"and classified to class: \", outputLabel)"
   ]
  },
  {
   "cell_type": "code",
   "execution_count": 6,
   "metadata": {},
   "outputs": [],
   "source": [
    "#随机生成K个候选聚类中心点\n",
    "#参数：dataSet-List列表，已分类点坐标\n",
    "#      k-整数，近邻数量\n",
    "#返回值：centroids-2维列表，k个随机候选中心点坐标\n",
    "def initCentroids(dataSet, k): \n",
    "    numSamples, dim = dataSet.shape\n",
    "    centroids = np.zeros((k, dim))\n",
    "    # 循环遍历每一列，在每一列（也就是每一维）的最小值和最大值之间产生K个随机数，作为候选中心点这一维的坐标\n",
    "    for j in range(dim):\n",
    "        # 计算每一列的最小值\n",
    "        minJ = min(dataSet[:, j])\n",
    "        # 计算每一列的范围值\n",
    "        rangeJ = float(max(dataSet[:, j]) - minJ)\n",
    "        # 计算每一列的质心,并将值赋给centroids\n",
    "        centroids[:, j] = minJ + rangeJ * np.random.rand(k)\n",
    "    return centroids\n",
    "\n",
    "#在已有数据点中随机挑选K个作为聚类中心点\n",
    "#这实际上是K中心点聚类算法的初始化方法\n",
    "#参数：dataSet-List列表，已分类点坐标\n",
    "#      k-整数，近邻数量\n",
    "#返回值：centroids-2维列表，k个随机候选中心点坐标\n",
    "def initCentroids1(dataSet, k):  \n",
    "    numSamples, dim = dataSet.shape  \n",
    "    centroids = np.zeros((k, dim))  \n",
    "    for i in range(k):  \n",
    "        index = int(np.random.uniform(0, numSamples))  \n",
    "        centroids[i, :] = dataSet[index, :]  \n",
    "    return centroids"
   ]
  },
  {
   "cell_type": "code",
   "execution_count": 7,
   "metadata": {},
   "outputs": [],
   "source": [
    "# K均值聚类\n",
    "#参数：dataSet-List列表，待聚类样本集\n",
    "#      k-整数，近邻数量\n",
    "#返回值：centroids-2维列表，k个随机中心点坐标\n",
    "#        clusterAssment -列表，各个样本点的聚类结果\n",
    "def kmeans(dataSet, k):  \n",
    "    numSamples = dataSet.shape[0]\n",
    "#第一列数据存放归属的点\n",
    "#第二列存放样本与候选聚类中心点之间的误差  \n",
    "    clusterAssment = np.mat(np.zeros((numSamples, 2)))  \n",
    "    clusterChanged = True    \n",
    "    centroids = initCentroids(dataSet, k)  \n",
    "  \n",
    "    while clusterChanged:  \n",
    "        clusterChanged = False  \n",
    "        for i in range(numSamples):  \n",
    "            minDist  = 100000.0  \n",
    "            minIndex = 0  \n",
    "#依次找出最近候选聚类中心点\n",
    "            for j in range(k):  \n",
    "                distance = euclDistance(centroids[j, :], dataSet[i, :])  \n",
    "                if distance < minDist:  \n",
    "                    minDist  = distance  \n",
    "                    minIndex = j  \n",
    "#更新归属结果\n",
    "            if clusterAssment[i, 0] != minIndex:  \n",
    "                clusterChanged = True  \n",
    "                clusterAssment[i, :] = minIndex, minDist**2  \n",
    "#更新候选聚类中心点坐标\n",
    "        for j in range(k):  \n",
    "            pointsInCluster = dataSet[np.nonzero(clusterAssment[:, 0].A == j)[0]]  \n",
    "            centroids[j, :] = np.mean(pointsInCluster, axis = 0)  \n",
    "  \n",
    "    print('KMN聚类完成!')  \n",
    "    return centroids, clusterAssment  "
   ]
  },
  {
   "cell_type": "code",
   "execution_count": 8,
   "metadata": {},
   "outputs": [],
   "source": [
    "# 2维平面显示聚类结果\n",
    "#参数：dataSet-List列表，样本集\n",
    "#      k-整数，近邻数量\n",
    "#      centroids-List列表，聚类中心点坐标\n",
    "#      clusterAssment-List列表，聚类结果\n",
    "#返回值：无\n",
    "def showCluster(dataSet, k, centroids, clusterAssment):  \n",
    "    fig_2d_clustered=plt.figure()\n",
    "    ax2d_clustered=fig_2d_clustered.add_subplot(111) \n",
    "    \n",
    "    numSamples, dim = dataSet.shape  \n",
    "    if dim != 2:  \n",
    "        print(\"只能绘制2维图形\")  \n",
    "        return 1  \n",
    "#创建数据点标记格式控制列表，实现数据点区别输出\n",
    "    mark = ['.r', '+b', '*g', '1k', '^r', 'vr', 'sr', 'dr', '<r', 'pr']  \n",
    "    if k > len(mark):  \n",
    "        print(\"K值过大！\")  \n",
    "        return 1  \n",
    "#绘制所有样本点\n",
    "    for i in range(numSamples):  \n",
    "        markIndex = int(clusterAssment[i, 0])  \n",
    "        ax2d_clustered.plot(dataSet[i, 0], dataSet[i, 1], mark[markIndex])  \n",
    "\n",
    "#绘制聚类中心点  \n",
    "    for i in range(k):\n",
    "        ax2d_clustered.plot(centroids[i, 0], centroids[i, 1], mark[i], markersize = 20)  \n",
    " \n",
    "    fig_2d_clustered.savefig('clusterRes.png', dpi=300, bbox_inches='tight')\n",
    "    fig_2d_clustered.show()"
   ]
  },
  {
   "cell_type": "code",
   "execution_count": 9,
   "metadata": {},
   "outputs": [
    {
     "name": "stdout",
     "output_type": "stream",
     "text": [
      "step 1: 读入数据：\n",
      "原始数据分布：\n"
     ]
    },
    {
     "data": {
      "image/png": "[encoded data removed]",
      "text/plain": [
       "<Figure size 432x288 with 1 Axes>"
      ]
     },
     "metadata": {
      "needs_background": "light"
     },
     "output_type": "display_data"
    }
   ],
   "source": [
    "#调用以上函数，对读入数据进行聚类\n",
    "print(\"step 1: 读入数据：\")  \n",
    "dataSetKMN = []  \n",
    "fileIn = open('testSet.txt')  \n",
    "for line in fileIn.readlines():  \n",
    "    lineArr = line.strip().split(' ')  \n",
    "    dataSetKMN.append([float(lineArr[0]), float(lineArr[1])])  \n",
    "dataSetKMNSize = len(dataSetKMN)\n",
    "dataSetKMN = np.mat(dataSetKMN)\n",
    "for i in range(dataSetKMNSize):\n",
    "    plt.plot(dataSetKMN[i, 0], dataSetKMN[i, 1],'b*') \n",
    "print(\"原始数据分布：\") \n",
    "plt.savefig('ch12_kmn_orig.png', dpi=300, bbox_inches='tight')\n",
    "plt.show()"
   ]
  },
  {
   "cell_type": "code",
   "execution_count": 10,
   "metadata": {},
   "outputs": [
    {
     "name": "stdout",
     "output_type": "stream",
     "text": [
      "step 2: 聚类\n",
      "KMN聚类完成!\n"
     ]
    }
   ],
   "source": [
    "#K取值4，调用K均值算法聚类\n",
    "print(\"step 2: 聚类\")    \n",
    "k = 4\n",
    "centroids, clusterAssment = kmeans(dataSetKMN, k) "
   ]
  },
  {
   "cell_type": "code",
   "execution_count": 11,
   "metadata": {},
   "outputs": [
    {
     "name": "stdout",
     "output_type": "stream",
     "text": [
      "step 3: 结果输出：\n"
     ]
    },
    {
     "name": "stderr",
     "output_type": "stream",
     "text": [
      "C:\\Users\\houfang\\Miniconda3\\lib\\site-packages\\ipykernel_launcher.py:30: UserWarning: Matplotlib is currently using module://ipykernel.pylab.backend_inline, which is a non-GUI backend, so cannot show the figure.\n"
     ]
    },
    {
     "data": {
      "image/png": "[encoded data removed]",
      "text/plain": [
       "<Figure size 432x288 with 1 Axes>"
      ]
     },
     "metadata": {
      "needs_background": "light"
     },
     "output_type": "display_data"
    }
   ],
   "source": [
    "print(\"step 3: 结果输出：\")  \n",
    "showCluster(dataSetKMN, k, centroids, clusterAssment)"
   ]
  },
  {
   "cell_type": "code",
   "execution_count": 12,
   "metadata": {},
   "outputs": [],
   "source": [
    "#计算代价TC\n",
    "#参数：dataSet-List列表，样本集\n",
    "#      k-整数，近邻数量\n",
    "#      medoids_idx-List列表，候选中心点\n",
    "#      clusterAssment-List列表，聚类结果\n",
    "#返回值：total_cost-浮点数，TC代价\n",
    "#        medoids-List2维列表，本次归属到各中心点的样本点\n",
    "def totalcost(dataSet, medoids_idx) :\n",
    "    distances_cache = {}\n",
    "    size = len(dataSet)\n",
    "    total_cost = 0.0\n",
    "    medoids = {}\n",
    "    for idx in medoids_idx :\n",
    "        medoids[idx] = []\n",
    "    for i in range(size) :\n",
    "        choice = None\n",
    "        min_cost = 100000\n",
    "#计算各样本数据点到medoids_idx的距离，将其归属到距离最近的那个中心点\n",
    "        for m in medoids :\n",
    "            tmp = distances_cache.get((m,i),None)\n",
    "            if tmp == None :\n",
    "                tmp = euclDistance(dataSet[m],dataSet[i])\n",
    "                distances_cache[(m,i)] = tmp\n",
    "            if tmp < min_cost :\n",
    "                choice = m\n",
    "                min_cost = tmp\n",
    "        medoids[choice].append(i)\n",
    "        total_cost += min_cost\n",
    "    return total_cost, medoids"
   ]
  },
  {
   "cell_type": "code",
   "execution_count": 13,
   "metadata": {},
   "outputs": [],
   "source": [
    "# K中心点聚类\n",
    "#参数：dataSet-List列表，待聚类样本集\n",
    "#      k-整数，近邻数量\n",
    "#返回值：centroids-2维列表，k个中心点坐标\n",
    "#        clusterAssment -列表，各个样本点的聚类结果\n",
    "\n",
    "import random\n",
    "\n",
    "def kmedoids(dataSet, k) :\n",
    "    size ,dim= dataSet.shape\n",
    "    centroids = np.zeros((k,dim))\n",
    "    clusterAssment = np.mat(np.zeros((size, 2)))    \n",
    "    medoids_idx = random.sample([i for i in range(size)], k)\n",
    "    pre_cost, medoids = totalcost(dataSet,medoids_idx)\n",
    "    current_cost = 100000    \n",
    "    best_choice = []\n",
    "    best_res = {}\n",
    "    iter_count = 0\n",
    "#反复计算TC，进行聚类\n",
    "    while 1 :\n",
    "        for m in medoids :\n",
    "            for item in medoids[m] :\n",
    "                if item != m :\n",
    "                    idx = medoids_idx.index(m)\n",
    "                    swap_temp = medoids_idx[idx]\n",
    "                    medoids_idx[idx] = item\n",
    "                    tmp,medoids_ = totalcost(dataSet,medoids_idx)\n",
    "                    if tmp < current_cost :\n",
    "                        best_choice = list(medoids_idx)\n",
    "                        best_res = dict(medoids_)\n",
    "                        current_cost = tmp\n",
    "                    medoids_idx[idx] = swap_temp\n",
    "        iter_count += 1\n",
    "        if best_choice == medoids_idx : break\n",
    "        if current_cost <= pre_cost :\n",
    "            pre_cost = current_cost\n",
    "            medoids = best_res\n",
    "            medoids_idx = best_choice\n",
    "    \n",
    "    centNum=0;\n",
    "    for index in best_choice:\n",
    "        centroids[centNum,:]=dataSet[index,:]\n",
    "        centNum += 1\n",
    "    \n",
    "    classNumber = 0\n",
    "    for key in best_res:\n",
    "        for index in best_res[key]:\n",
    "            clusterAssment[index,0]=classNumber\n",
    "        classNumber += 1\n",
    "      \n",
    "    print('KMed聚类完成!')  \n",
    "    return centroids, clusterAssment"
   ]
  },
  {
   "cell_type": "code",
   "execution_count": 14,
   "metadata": {},
   "outputs": [
    {
     "name": "stdout",
     "output_type": "stream",
     "text": [
      "K中心点算法聚类:\n",
      "KMed聚类完成!\n"
     ]
    },
    {
     "name": "stderr",
     "output_type": "stream",
     "text": [
      "C:\\Users\\houfang\\Miniconda3\\lib\\site-packages\\ipykernel_launcher.py:30: UserWarning: Matplotlib is currently using module://ipykernel.pylab.backend_inline, which is a non-GUI backend, so cannot show the figure.\n"
     ]
    },
    {
     "data": {
      "image/png": "[encoded data removed]",
      "text/plain": [
       "<Figure size 432x288 with 1 Axes>"
      ]
     },
     "metadata": {
      "needs_background": "light"
     },
     "output_type": "display_data"
    }
   ],
   "source": [
    "print(\"K中心点算法聚类:\")  \n",
    "dataSetKMed = []  \n",
    "fileIn = open('testSet.txt')  \n",
    "for line in fileIn.readlines():  \n",
    "    lineArr = line.strip().split(' ')  \n",
    "    dataSetKMed.append([float(lineArr[0]), float(lineArr[1])])  \n",
    "dataSetKMedSize = len(dataSetKMed)\n",
    "dataSetKMed = np.mat(dataSetKMed)\n",
    "#K取值4，调用K中心点算法聚类\n",
    "k = 4\n",
    "centroids, clusterAssment = kmedoids(dataSetKMed,k) \n",
    "showCluster(dataSetKMed, k, centroids, clusterAssment)"
   ]
  },
  {
   "cell_type": "code",
   "execution_count": 15,
   "metadata": {},
   "outputs": [
    {
     "name": "stdout",
     "output_type": "stream",
     "text": [
      "原始数据头5行：\n",
      "(200, 5)\n",
      "   ID      性别  年龄  年收入(万元)  消费评分(1-100)\n",
      "0   1    Male  19       15           39\n",
      "1   2    Male  21       15           81\n",
      "2   3  Female  20       16            6\n",
      "3   4  Female  23       16           77\n",
      "4   5  Female  31       17           40\n"
     ]
    }
   ],
   "source": [
    "X_origin = pd.read_csv('ch12_Mall_Customers.csv',encoding='gb2312')\n",
    "print('原始数据头5行：')\n",
    "print(X_origin.shape)\n",
    "print(X_origin.head())\n",
    "\n",
    "X = X_origin.drop(['ID','性别'],axis=1)"
   ]
  },
  {
   "cell_type": "code",
   "execution_count": 16,
   "metadata": {},
   "outputs": [
    {
     "name": "stdout",
     "output_type": "stream",
     "text": [
      "规格化转换后数据：\n",
      "       atr1      atr2      atr3\n",
      "0 -1.424569 -1.738999 -0.434801\n",
      "1 -1.281035 -1.738999  1.195704\n",
      "2 -1.352802 -1.700830 -1.715913\n",
      "3 -1.137502 -1.700830  1.040418\n",
      "4 -0.563369 -1.662660 -0.395980\n"
     ]
    }
   ],
   "source": [
    "from sklearn import preprocessing\n",
    "X_scaled = preprocessing.scale(X)\n",
    "X_scaled_frame = pd.DataFrame(X_scaled,columns=['atr1','atr2','atr3'])\n",
    "print('规格化转换后数据：')\n",
    "print(X_scaled_frame.head())"
   ]
  },
  {
   "cell_type": "code",
   "execution_count": 17,
   "metadata": {},
   "outputs": [
    {
     "name": "stdout",
     "output_type": "stream",
     "text": [
      "绘制3维图：\n"
     ]
    },
    {
     "data": {
      "image/png": "[encoded data removed]",
      "text/plain": [
       "<Figure size 432x288 with 1 Axes>"
      ]
     },
     "metadata": {
      "needs_background": "light"
     },
     "output_type": "display_data"
    }
   ],
   "source": [
    "from mpl_toolkits.mplot3d import Axes3D\n",
    "\n",
    "print('绘制3维图：')\n",
    "#创建一个三维的绘图工程\n",
    "fig_3d=plt.figure()\n",
    "ax3d=fig_3d.add_subplot(111,projection='3d') \n",
    "ax3d.scatter(X_scaled_frame['atr1'],X_scaled_frame['atr2'],X_scaled_frame['atr3']) \n",
    "fig_3d.savefig('ch12case_01.png', dpi=300, bbox_inches='tight')"
   ]
  },
  {
   "cell_type": "code",
   "execution_count": 18,
   "metadata": {},
   "outputs": [
    {
     "name": "stdout",
     "output_type": "stream",
     "text": [
      "      pca_1     pca_2\n",
      "0 -0.615720 -1.763481\n",
      "1 -1.665793 -1.820747\n",
      "2  0.337862 -1.674799\n",
      "3 -1.456573 -1.772430\n",
      "4 -0.038465 -1.662740\n",
      "绘制2维图：\n"
     ]
    },
    {
     "name": "stderr",
     "output_type": "stream",
     "text": [
      "C:\\Users\\houfang\\Miniconda3\\lib\\site-packages\\ipykernel_launcher.py:14: UserWarning: Matplotlib is currently using module://ipykernel.pylab.backend_inline, which is a non-GUI backend, so cannot show the figure.\n",
      "  \n"
     ]
    },
    {
     "data": {
      "image/png": "[encoded data removed]",
      "text/plain": [
       "<Figure size 432x288 with 1 Axes>"
      ]
     },
     "metadata": {
      "needs_background": "light"
     },
     "output_type": "display_data"
    }
   ],
   "source": [
    "#数据降为2维\n",
    "#在sklearn中提供了PCA函数，可以将高维数据降为低维\n",
    "from sklearn.decomposition import PCA\n",
    "pca = PCA(n_components = 2)\n",
    "X_pca = pca.fit_transform(X_scaled)\n",
    "X_pca_frame = pd.DataFrame(X_pca,columns=['pca_1','pca_2'])\n",
    "print(X_pca_frame.head())\n",
    "print('绘制2维图：')\n",
    "fig_2d=plt.figure()\n",
    "#创建一个二维的绘图工程\n",
    "ax2d=fig_2d.add_subplot(111) \n",
    "ax2d.plot(X_pca_frame['pca_1'],X_pca_frame['pca_2'],'bo') \n",
    "fig_2d.savefig('ch12case_02.png', dpi=300, bbox_inches='tight')\n",
    "fig_2d.show()"
   ]
  },
  {
   "cell_type": "code",
   "execution_count": 19,
   "metadata": {},
   "outputs": [
    {
     "name": "stdout",
     "output_type": "stream",
     "text": [
      "K均值聚类：\n",
      "KMN聚类完成!\n"
     ]
    },
    {
     "name": "stderr",
     "output_type": "stream",
     "text": [
      "C:\\Users\\houfang\\Miniconda3\\lib\\site-packages\\ipykernel_launcher.py:30: UserWarning: Matplotlib is currently using module://ipykernel.pylab.backend_inline, which is a non-GUI backend, so cannot show the figure.\n"
     ]
    },
    {
     "data": {
      "image/png": "[encoded data removed]",
      "text/plain": [
       "<Figure size 432x288 with 1 Axes>"
      ]
     },
     "metadata": {
      "needs_background": "light"
     },
     "output_type": "display_data"
    }
   ],
   "source": [
    "k=4\n",
    "print(\"K均值聚类：\")\n",
    "case_cen, case_clusterAssment = kmeans(X_pca, k)\n",
    "showCluster(X_pca, k, case_cen, case_clusterAssment) "
   ]
  },
  {
   "cell_type": "code",
   "execution_count": 20,
   "metadata": {},
   "outputs": [
    {
     "name": "stdout",
     "output_type": "stream",
     "text": [
      "K中心点聚类：\n",
      "KMed聚类完成!\n"
     ]
    },
    {
     "name": "stderr",
     "output_type": "stream",
     "text": [
      "C:\\Users\\houfang\\Miniconda3\\lib\\site-packages\\ipykernel_launcher.py:30: UserWarning: Matplotlib is currently using module://ipykernel.pylab.backend_inline, which is a non-GUI backend, so cannot show the figure.\n"
     ]
    },
    {
     "data": {
      "image/png": "[encoded data removed]",
      "text/plain": [
       "<Figure size 432x288 with 1 Axes>"
      ]
     },
     "metadata": {
      "needs_background": "light"
     },
     "output_type": "display_data"
    }
   ],
   "source": [
    "print(\"K中心点聚类：\")\n",
    "case_cen, case_clusterAssment = kmedoids(X_pca, k)\n",
    "showCluster(X_pca, k, case_cen, case_clusterAssment) "
   ]
  },
  {
   "cell_type": "code",
   "execution_count": 21,
   "metadata": {},
   "outputs": [
    {
     "name": "stdout",
     "output_type": "stream",
     "text": [
      "聚类结果：\n",
      "    ID      性别  年龄  年收入(万元)  消费评分(1-100)  聚类结果\n",
      "0    1    Male  19       15           39   1.0\n",
      "1    2    Male  21       15           81   1.0\n",
      "2    3  Female  20       16            6   3.0\n",
      "3    4  Female  23       16           77   1.0\n",
      "4    5  Female  31       17           40   1.0\n",
      "5    6  Female  22       17           76   1.0\n",
      "6    7  Female  35       18            6   3.0\n",
      "7    8  Female  23       18           94   1.0\n",
      "8    9    Male  64       19            3   3.0\n",
      "9   10  Female  30       19           72   1.0\n",
      "10  11    Male  67       19           14   3.0\n",
      "11  12  Female  35       19           99   1.0\n",
      "12  13  Female  58       20           15   3.0\n",
      "13  14  Female  24       20           77   1.0\n",
      "14  15    Male  37       20           13   3.0\n",
      "聚类结果按年龄统计均值\n",
      "聚类结果\n",
      "0.0    29.672131\n",
      "1.0    25.343750\n",
      "2.0    45.488889\n",
      "3.0    50.032258\n",
      "Name: 年龄, dtype: float64\n",
      "聚类结果按年收入统计均值\n",
      "聚类结果\n",
      "0.0    77.852459\n",
      "1.0    29.687500\n",
      "2.0    82.911111\n",
      "3.0    43.258065\n",
      "Name: 年收入(万元), dtype: float64\n",
      "聚类结果按消费评分统计均值\n",
      "聚类结果\n",
      "0.0    69.967213\n",
      "1.0    70.968750\n",
      "2.0    24.133333\n",
      "3.0    38.951613\n",
      "Name: 消费评分(1-100), dtype: float64\n"
     ]
    }
   ],
   "source": [
    "#将case_clusterAssment中的聚类结果写回原始DataFrame\n",
    "X_origin['聚类结果']=case_clusterAssment[:,0]\n",
    "print('聚类结果：')\n",
    "print(X_origin.head(15))\n",
    "#查看按照聚类结果分组的各属性均值\n",
    "print('聚类结果按年龄统计均值')\n",
    "g_Age=X_origin['年龄'].groupby(X_origin['聚类结果'])\n",
    "print(g_Age.mean())\n",
    "print('聚类结果按年收入统计均值')\n",
    "g_Income=X_origin['年收入(万元)'].groupby(X_origin['聚类结果'])\n",
    "print(g_Income.mean())\n",
    "print('聚类结果按消费评分统计均值')\n",
    "g_Rate=X_origin['消费评分(1-100)'].groupby(X_origin['聚类结果'])\n",
    "print(g_Rate.mean())"
   ]
  },
  {
   "cell_type": "code",
   "execution_count": 22,
   "metadata": {},
   "outputs": [
    {
     "name": "stdout",
     "output_type": "stream",
     "text": [
      "step1: 原始数据分布：\n",
      "step 2: 聚类\n",
      "KMN聚类完成!\n",
      "step 3: 结果输出：\n"
     ]
    },
    {
     "name": "stderr",
     "output_type": "stream",
     "text": [
      "C:\\Users\\houfang\\Miniconda3\\lib\\site-packages\\ipykernel_launcher.py:30: UserWarning: Matplotlib is currently using module://ipykernel.pylab.backend_inline, which is a non-GUI backend, so cannot show the figure.\n"
     ]
    },
    {
     "data": {
      "image/png": "[encoded data removed]",
      "text/plain": [
       "<Figure size 432x288 with 1 Axes>"
      ]
     },
     "metadata": {
      "needs_background": "light"
     },
     "output_type": "display_data"
    },
    {
     "data": {
      "image/png": "[encoded data removed]",
      "text/plain": [
       "<Figure size 432x288 with 1 Axes>"
      ]
     },
     "metadata": {
      "needs_background": "light"
     },
     "output_type": "display_data"
    }
   ],
   "source": [
    "'''\n",
    "复习思考题1：给出一个数据集data_multivar.txt，里面有200个点坐标，\n",
    "用K均值算法来训练模型，将该数据集的200个点分成4类，\n",
    "读者可以在程序中设置k值为2，3，5等，运行代码进行比较。\n",
    "'''\n",
    "\n",
    "import pandas as pd\n",
    "import numpy as np\n",
    "import matplotlib.pyplot as plt\n",
    "\n",
    "origData = pd.read_csv(\"data_multivar.txt\",header=None)\n",
    "\n",
    "dataSetKMNSize = len(origData)\n",
    "dataSetKMN = np.mat(origData)\n",
    "print(\"step1: 原始数据分布：\") \n",
    "for i in range(dataSetKMNSize):\n",
    "    plt.plot(dataSetKMN[i, 0], dataSetKMN[i, 1],'b*') \n",
    "\n",
    "print(\"step 2: 聚类\")    \n",
    "k = 4\n",
    "centroids, clusterAssment = kmeans(dataSetKMN, k) \n",
    "\n",
    "print(\"step 3: 结果输出：\")  \n",
    "showCluster(dataSetKMN, k, centroids, clusterAssment)"
   ]
  },
  {
   "cell_type": "code",
   "execution_count": 23,
   "metadata": {
    "scrolled": true
   },
   "outputs": [
    {
     "name": "stdout",
     "output_type": "stream",
     "text": [
      "step1: 原始数据分布：\n",
      "step 2: 聚类\n",
      "KMN聚类完成!\n",
      "step 3: 结果输出：\n",
      "聚类结果：\n",
      "     地区        人口数    男女比例    人口数adj   男女比例adj  聚类结果\n",
      "0    北京   19612368  106.75  0.163941  0.402308   3.0\n",
      "1    天津   12938693  114.52  0.098072  1.000000   0.0\n",
      "2    河北   71854210  102.84  0.679562  0.101538   1.0\n",
      "3    山西   35712101  105.56  0.322843  0.310769   3.0\n",
      "4   内蒙古   24706291  108.17  0.214217  0.511538   3.0\n",
      "5    辽宁   43746323  102.54  0.402140  0.078462   1.0\n",
      "6    吉林   27452815  102.67  0.241325  0.088462   3.0\n",
      "7   黑龙江   38313991  102.85  0.348524  0.102308   3.0\n",
      "8    上海   23019196  106.19  0.197566  0.359231   3.0\n",
      "9    江苏   78660941  101.52  0.746743  0.000000   1.0\n",
      "10   浙江   54426891  105.69  0.507556  0.320769   1.0\n",
      "11   安徽   59500468  103.39  0.557632  0.143846   1.0\n",
      "12   福建   36894217  105.96  0.334511  0.341538   3.0\n",
      "13   江西   44567797  106.67  0.410248  0.396154   3.0\n",
      "14   青海    5626723  107.40  0.025904  0.452308   3.0\n",
      "15   新疆   21815815  106.87  0.185689  0.411538   3.0\n",
      "16   山东   95792719  102.33  0.915832  0.062308   2.0\n",
      "17   河南   94029939  102.05  0.898434  0.040769   2.0\n",
      "18   湖北   57237727  105.55  0.535299  0.310000   1.0\n",
      "19   湖南   65700762  105.80  0.618828  0.329231   1.0\n",
      "20   广东  104320459  108.98  1.000000  0.573846   2.0\n",
      "21   广西   46023761  108.26  0.424618  0.518462   3.0\n",
      "22   海南    8671485  112.58  0.055956  0.850769   0.0\n",
      "23   重庆   28846170  102.61  0.255077  0.083846   3.0\n",
      "24   四川   80417528  103.13  0.764081  0.123846   1.0\n",
      "25   贵州   34748556  106.31  0.313333  0.368462   3.0\n",
      "26   云南   45966766  107.90  0.424056  0.490769   3.0\n",
      "27   西藏    3002165  105.70  0.000000  0.321538   3.0\n",
      "28   陕西   37327379  106.92  0.338786  0.415385   3.0\n",
      "29   甘肃   25575263  104.42  0.222794  0.223077   3.0\n",
      "30   宁夏    6301350  104.99  0.032563  0.266923   3.0\n"
     ]
    },
    {
     "name": "stderr",
     "output_type": "stream",
     "text": [
      "C:\\Users\\houfang\\Miniconda3\\lib\\site-packages\\ipykernel_launcher.py:30: UserWarning: Matplotlib is currently using module://ipykernel.pylab.backend_inline, which is a non-GUI backend, so cannot show the figure.\n"
     ]
    },
    {
     "data": {
      "image/png": "[encoded data removed]",
      "text/plain": [
       "<Figure size 432x288 with 1 Axes>"
      ]
     },
     "metadata": {
      "needs_background": "light"
     },
     "output_type": "display_data"
    },
    {
     "data": {
      "image/png": "[encoded data removed]",
      "text/plain": [
       "<Figure size 432x288 with 1 Axes>"
      ]
     },
     "metadata": {
      "needs_background": "light"
     },
     "output_type": "display_data"
    }
   ],
   "source": [
    "'''\n",
    "复习思考题2：中华人民共和国第六次人口普查的各地区人口数以及男女比例进行K-means聚类分析.\n",
    "'''\n",
    "import pandas as pd\n",
    "import numpy as np\n",
    "import matplotlib.pyplot as plt\n",
    "\n",
    "origData = pd.read_csv(\"population.txt\",sep=',')\n",
    "\n",
    "#对于Kmeans这样的距离聚类算法而言，如果某个属性的数值远大于其他属性，\n",
    "#那么聚类结果很可能就是对这个属性的一个划分，其他属性被弱化\n",
    "#本例人口数数据跨度从3百万到超过1亿，将其数据尺度缩小到[0，1]之间，可以改善聚类效果\n",
    "#第4小节的案例用了preprocessing.scale()，下面使用比较简单的最大值最小值缩放\n",
    "#请比较一下不做缩放和做了缩放之后的聚类效果\n",
    "maxPopu = origData['人口数'].max()\n",
    "minPopu = origData['人口数'].min()\n",
    "origData['人口数adj']=(origData['人口数']-minPopu)/(maxPopu-minPopu)\n",
    "maxRate = origData['男女比例'].max()\n",
    "minRate = origData['男女比例'].min()\n",
    "origData['男女比例adj']=(origData['男女比例']-minRate)/(maxRate-minRate)\n",
    "\n",
    "dataSetKMNSize = len(origData)\n",
    "dataSetKMN = np.mat(origData[['人口数adj','男女比例adj']])\n",
    "\n",
    "print(\"step1: 原始数据分布：\") \n",
    "for i in range(dataSetKMNSize):\n",
    "    plt.plot(dataSetKMN[i, 0], dataSetKMN[i, 1],'b*') \n",
    "    \n",
    "print(\"step 2: 聚类\")    \n",
    "k = 4\n",
    "centroids, clusterAssment = kmeans(dataSetKMN, k) \n",
    "\n",
    "print(\"step 3: 结果输出：\")  \n",
    "showCluster(dataSetKMN, k, centroids, clusterAssment)\n",
    "\n",
    "#将case_clusterAssment中的聚类结果写回原始DataFrame\n",
    "origData['聚类结果']=clusterAssment[:,0]\n",
    "print('聚类结果：')\n",
    "print(origData)"
   ]
  },
  {
   "cell_type": "code",
   "execution_count": 24,
   "metadata": {},
   "outputs": [
    {
     "name": "stdout",
     "output_type": "stream",
     "text": [
      "  province     x1     x2     x3      x4      x5     x6  gdp  geo\n",
      "0    北京     21.76  15.01  12.23    0.02   10.69   3.09    2    1\n",
      "1    天津      7.47   4.19   4.80    0.00   11.44   7.68    3    1\n",
      "2  河北       21.92  43.49  69.43    9.40  100.00  45.79    2    1\n",
      "3  山西       13.79  58.94  93.45  100.00   44.60  15.04    3    1\n",
      "4  内蒙古       7.44  37.97  69.87    2.16   37.87   9.02    3    1\n",
      "规格化转换后数据：\n",
      "       atr1      atr2      atr3\n",
      "0 -1.424569 -1.738999 -0.434801\n",
      "1 -1.281035 -1.738999  1.195704\n",
      "2 -1.352802 -1.700830 -1.715913\n",
      "3 -1.137502 -1.700830  1.040418\n",
      "4 -0.563369 -1.662660 -0.395980\n",
      "      pca_1     pca_2\n",
      "0 -0.291071 -0.549709\n",
      "1 -1.182082 -0.543312\n",
      "2  3.303118  1.699791\n",
      "3  1.594474  4.899828\n",
      "4  0.403719  1.813386\n",
      "K均值聚类：\n",
      "KMN聚类完成!\n",
      "聚类结果：\n",
      "    province      x1      x2      x3      x4      x5      x6  gdp  geo  聚类结果\n",
      "0      北京      21.76   15.01   12.23    0.02   10.69    3.09    2    1   3.0\n",
      "1      天津       7.47    4.19    4.80    0.00   11.44    7.68    3    1   0.0\n",
      "2    河北        21.92   43.49   69.43    9.40  100.00   45.79    2    1   1.0\n",
      "3    山西        13.79   58.94   93.45  100.00   44.60   15.04    3    1   3.0\n",
      "4    内蒙古        7.44   37.97   69.87    2.16   37.87    9.02    3    1   3.0\n",
      "5    辽宁        27.90   36.64  100.00    1.08   49.84   35.21    2    2   1.0\n",
      "6    吉林        12.60   13.47   41.05    0.32   11.90   14.49    3    2   3.0\n",
      "7    黑龙江       15.41   16.34   43.23    0.01   15.14   14.01    3    2   3.0\n",
      "8    上海        39.94   29.14   28.82    0.04   19.94   17.44    2    3   3.0\n",
      "9    江苏        53.01   12.58   13.10    0.06   49.08  100.00    1    3   1.0\n",
      "10   浙江        30.40    4.64    4.37    0.35   36.35   74.79    1    3   1.0\n",
      "11   安徽        22.46   11.92   22.71    0.00   27.57   27.14    3    3   1.0\n",
      "12   福建        19.93    3.97   15.72    0.67   19.03   50.60    2    3   3.0\n",
      "13   江西        15.24   14.79   10.04    1.99   12.68   26.34    3    3   3.0\n",
      "14   山东        37.37   52.54   53.28    0.02   65.24   61.86    1    3   3.0\n",
      "15   河南        36.11   33.77   33.19    0.54   39.31   49.83    2    4   3.0\n",
      "16  湖北         34.63   22.74   16.16    1.93   21.57   33.65    2    4   2.0\n",
      "17   湖南        33.81   36.20   30.57    7.68   18.22   37.05    2    4   2.0\n",
      "18   广东       100.00    5.74    9.17    2.78   35.25   91.63    1    4   1.0\n",
      "19   广西        30.16   10.38    5.24    2.50   26.47   68.35    3    4   1.0\n",
      "20   海南         6.04    0.00    0.44    0.03    2.29    1.91    4    4   2.0\n",
      "21   重庆        14.20   31.35   35.81   33.34   15.83   25.44    3    5   3.0\n",
      "22   四川        30.72   34.22   56.33   49.37   47.80   42.49    2    5   0.0\n",
      "23   贵州         9.17  100.00   45.41   19.76   21.54    4.20    4    5   3.0\n",
      "24   云南        10.39   19.21   24.89   19.95   16.80   12.88    3    5   1.0\n",
      "25   西藏         0.00    0.00    0.00    0.95    0.00    0.00    4    5   3.0\n",
      "26   陕西        10.94   17.88   28.38   10.20   13.44   17.79    3    6   3.0\n",
      "27   甘肃         5.88   18.98   18.78    5.99   12.09    5.60    4    6   3.0\n",
      "28   青海         2.30    1.77   10.92    0.20    5.16    2.41    4    6   3.0\n",
      "29   宁夏         3.09    6.40    6.99    1.15    8.26    7.55    4    6   3.0\n",
      "30   新疆        10.22   23.40   36.68   16.42   12.04    7.50    4    6   3.0\n"
     ]
    },
    {
     "name": "stderr",
     "output_type": "stream",
     "text": [
      "C:\\Users\\houfang\\Miniconda3\\lib\\site-packages\\ipykernel_launcher.py:30: UserWarning: Matplotlib is currently using module://ipykernel.pylab.backend_inline, which is a non-GUI backend, so cannot show the figure.\n"
     ]
    },
    {
     "data": {
      "image/png": "[encoded data removed]",
      "text/plain": [
       "<Figure size 432x288 with 1 Axes>"
      ]
     },
     "metadata": {
      "needs_background": "light"
     },
     "output_type": "display_data"
    }
   ],
   "source": [
    "'''\n",
    "复习思考题3：某年各省级行政区环境污染状况的统计数据（已经过标准化处理），\n",
    "包括生活污水排放量（x1）,生活二氧化硫排放量（x2）,生活烟尘排放量（x3）,工业固体废物排放量（x4）,\n",
    "工业废气排放总量（x5）,工业废水排放量（x6），GDP水平（gdp）以及地理位置（geo）等。\n",
    "现采用K-Means聚类方法，编写Python程序将省级行政区分成4类。详细数据见文件“环境污染数据.txt”。\n",
    "'''\n",
    "import pandas as pd\n",
    "import numpy as np\n",
    "import matplotlib.pyplot as plt\n",
    "#请注意原始数据文件的编码方式及分隔符\n",
    "origData = pd.read_csv(\"环境污染数据.txt\",encoding='ANSI',sep='\\t')\n",
    "print(origData.head())\n",
    "#KMean可以支持高维数据聚类，但是本章节用于绘制图形的函数showCluster()只支持2维图像\n",
    "#故使用PCA将本案例的数据将为2维聚类。读者可以自行尝试不降维聚类。\n",
    "X = origData.drop(['province'],axis=1)\n",
    "\n",
    "from sklearn import preprocessing\n",
    "X_scaled = preprocessing.scale(X)\n",
    "\n",
    "print('规格化转换后数据：')\n",
    "print(X_scaled_frame.head())\n",
    "\n",
    "from sklearn.decomposition import PCA\n",
    "pca = PCA(n_components = 2)\n",
    "X_pca = pca.fit_transform(X_scaled)\n",
    "X_pca_frame = pd.DataFrame(X_pca,columns=['pca_1','pca_2'])\n",
    "print(X_pca_frame.head())\n",
    "\n",
    "k=3\n",
    "print(\"K均值聚类：\")\n",
    "case_cen, case_clusterAssment = kmeans(X_pca, k)\n",
    "showCluster(X_pca, k, case_cen, case_clusterAssment) \n",
    "\n",
    "#将case_clusterAssment中的聚类结果写回原始DataFrame\n",
    "origData['聚类结果']=clusterAssment[:,0]\n",
    "print('聚类结果：')\n",
    "print(origData)"
   ]
  },
  {
   "cell_type": "code",
   "execution_count": null,
   "metadata": {},
   "outputs": [],
   "source": []
  }
 ],
 "metadata": {
  "kernelspec": {
   "display_name": "Python 3",
   "language": "python",
   "name": "python3"
  },
  "language_info": {
   "codemirror_mode": {
    "name": "ipython",
    "version": 3
   },
   "file_extension": ".py",
   "mimetype": "text/x-python",
   "name": "python",
   "nbconvert_exporter": "python",
   "pygments_lexer": "ipython3",
   "version": "3.7.4"
  }
 },
 "nbformat": 4,
 "nbformat_minor": 2
}
